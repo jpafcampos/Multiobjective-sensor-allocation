{
 "cells": [
  {
   "cell_type": "code",
   "execution_count": 1,
   "id": "53528fde",
   "metadata": {},
   "outputs": [],
   "source": [
    "import numpy as np\n",
    "import pandas as pd\n",
    "import matplotlib.pyplot as plt\n",
    "import networkx as nx\n",
    "from networkx.drawing.nx_agraph import graphviz_layout\n",
    "from IPython.display import Image\n",
    "from IPython.core.display import HTML\n",
    "from params import *\n",
    "from fault_tree import *\n",
    "from genetic_operators import *\n",
    "from nsga2 import *"
   ]
  },
  {
   "cell_type": "code",
   "execution_count": 2,
   "metadata": {},
   "outputs": [],
   "source": [
    "ind = generate_random_individual()"
   ]
  },
  {
   "cell_type": "code",
   "execution_count": 5,
   "metadata": {},
   "outputs": [],
   "source": [
    "ind.crowding_distance = 0.5"
   ]
  },
  {
   "cell_type": "code",
   "execution_count": 6,
   "metadata": {},
   "outputs": [
    {
     "name": "stdout",
     "output_type": "stream",
     "text": [
      "0.5\n"
     ]
    }
   ],
   "source": [
    "print(ind.crowding_distance)"
   ]
  },
  {
   "cell_type": "code",
   "execution_count": 7,
   "metadata": {},
   "outputs": [],
   "source": [
    "ind2 = mutation(ind)"
   ]
  },
  {
   "cell_type": "code",
   "execution_count": 8,
   "metadata": {},
   "outputs": [
    {
     "name": "stdout",
     "output_type": "stream",
     "text": [
      "0.5\n"
     ]
    }
   ],
   "source": [
    "print(ind2.crowding_distance)"
   ]
  },
  {
   "cell_type": "code",
   "execution_count": 15,
   "metadata": {},
   "outputs": [],
   "source": [
    "def crossover_test(parent1, parent2):\n",
    "    '''\n",
    "    Perform crossover between two parents\n",
    "    '''\n",
    "\n",
    "    print(parent1.crowding_distance)\n",
    "    # Create two children\n",
    "    child1 = parent1.copy()\n",
    "    child2 = parent2.copy()\n",
    "\n",
    "    print(child1.crowding_distance)\n",
    "\n",
    "    # Choose a random index\n",
    "    idx = random.randint(0, len(parent1.genes)-1)\n",
    "\n",
    "    # Swap the genes\n",
    "    child1.genes[idx:], child2.genes[idx:] = child2.genes[idx:], child1.genes[idx:]\n",
    "\n",
    "    # Update the fitness of the children\n",
    "    child1.update_fitness()\n",
    "    child2.update_fitness()\n",
    "\n",
    "    return child1, child2"
   ]
  },
  {
   "cell_type": "code",
   "execution_count": 16,
   "metadata": {},
   "outputs": [
    {
     "name": "stdout",
     "output_type": "stream",
     "text": [
      "0.5\n",
      "None\n"
     ]
    }
   ],
   "source": [
    "c1, c2 = crossover_test(ind, ind2)"
   ]
  },
  {
   "cell_type": "code",
   "execution_count": 17,
   "metadata": {},
   "outputs": [
    {
     "name": "stdout",
     "output_type": "stream",
     "text": [
      "None\n"
     ]
    }
   ],
   "source": [
    "print(c1.crowding_distance)"
   ]
  },
  {
   "cell_type": "code",
   "execution_count": 11,
   "metadata": {},
   "outputs": [
    {
     "name": "stdout",
     "output_type": "stream",
     "text": [
      "None\n"
     ]
    }
   ],
   "source": [
    "print(c2.crowding_distance)"
   ]
  },
  {
   "cell_type": "code",
   "execution_count": 91,
   "metadata": {},
   "outputs": [],
   "source": [
    "pop = generate_random_population(10)"
   ]
  },
  {
   "cell_type": "code",
   "execution_count": 92,
   "metadata": {},
   "outputs": [
    {
     "name": "stdout",
     "output_type": "stream",
     "text": [
      "None\n",
      "None\n",
      "None\n",
      "None\n",
      "None\n",
      "None\n",
      "None\n",
      "None\n",
      "None\n",
      "None\n"
     ]
    }
   ],
   "source": [
    "for ind in pop:\n",
    "    print(ind.crowding_distance)"
   ]
  },
  {
   "cell_type": "code",
   "execution_count": 93,
   "metadata": {},
   "outputs": [],
   "source": [
    "def crowding_distance_sort_test(population):\n",
    "    '''\n",
    "    Perform crowding distance sort on the population\n",
    "    '''\n",
    "    # Initialize the crowding distance\n",
    "    crowding_distance = {}\n",
    "    for p in range(len(population)):\n",
    "        crowding_distance[p] = 0\n",
    "\n",
    "    # Compute the crowding distance\n",
    "    for m in range(2):\n",
    "        sorted_population = sorted(population, key=lambda x: x.fitness[m])\n",
    "        crowding_distance[0] = float('inf')\n",
    "        sorted_population[0].crowding_distance = crowding_distance[0]\n",
    "        crowding_distance[len(population) - 1] = float('inf')\n",
    "        sorted_population[-1].crowding_distance = crowding_distance[len(population) - 1]\n",
    "        for i in range(1, len(population) - 1):\n",
    "            crowding_distance[i] += (sorted_population[i+1].fitness[m] - sorted_population[i-1].fitness[m]) / (sorted_population[-1].fitness[m] - sorted_population[0].fitness[m])\n",
    "            sorted_population[i].crowding_distance = crowding_distance[i]\n",
    "\n",
    "    return population"
   ]
  },
  {
   "cell_type": "code",
   "execution_count": 94,
   "metadata": {},
   "outputs": [
    {
     "name": "stdout",
     "output_type": "stream",
     "text": [
      "0.24447339725533784\n",
      "inf\n",
      "0.46910129704237497\n",
      "inf\n",
      "0.1381601638234778\n",
      "1.136166596345021\n",
      "0.18720405388741798\n",
      "0.11549266978719515\n",
      "0.5006987736163048\n",
      "0.38490239274885196\n"
     ]
    }
   ],
   "source": [
    "pop = crowding_distance_sort_test(pop)"
   ]
  },
  {
   "cell_type": "code",
   "execution_count": 95,
   "metadata": {},
   "outputs": [
    {
     "name": "stdout",
     "output_type": "stream",
     "text": [
      "0.24447339725533784\n",
      "inf\n",
      "0.46910129704237497\n",
      "inf\n",
      "0.1381601638234778\n",
      "1.136166596345021\n",
      "0.18720405388741798\n",
      "0.11549266978719515\n",
      "0.5006987736163048\n",
      "0.38490239274885196\n"
     ]
    }
   ],
   "source": [
    "for ind in pop:\n",
    "    print(ind.crowding_distance)"
   ]
  },
  {
   "cell_type": "code",
   "execution_count": 5,
   "metadata": {},
   "outputs": [
    {
     "data": {
      "text/plain": [
       "<matplotlib.legend.Legend at 0x7fce04e597d0>"
      ]
     },
     "execution_count": 5,
     "metadata": {},
     "output_type": "execute_result"
    },
    {
     "data": {
      "image/png": "[encoded data removed]",
      "text/plain": [
       "<Figure size 576x432 with 1 Axes>"
      ]
     },
     "metadata": {
      "needs_background": "light"
     },
     "output_type": "display_data"
    }
   ],
   "source": [
    "# Consider a coin toss with probability of heads varying from 0 to 1. Plot the entropy of the coin toss as a function of the probability of heads.\n",
    "\n",
    "def entropy(p):\n",
    "    '''\n",
    "    Compute the entropy of a coin toss with probability of heads p\n",
    "    '''\n",
    "    return -(p*np.log2(p) + (1-p)*np.log2(1-p))\n",
    "\n",
    "p = np.linspace(0.01, 0.99, 100)\n",
    "ent = entropy(p)\n",
    "max_ent_index = np.argmax(ent)\n",
    "\n",
    "plt.figure(figsize=(8, 6))\n",
    "plt.plot(p, ent)\n",
    "plt.scatter(p[max_ent_index], ent[max_ent_index], color='red', label='Max Entropy')\n",
    "plt.xlabel('Probability of heads')\n",
    "plt.ylabel('Entropy')\n",
    "plt.legend()\n"
   ]
  },
  {
   "cell_type": "code",
   "execution_count": null,
   "metadata": {},
   "outputs": [],
   "source": []
  },
  {
   "cell_type": "code",
   "execution_count": null,
   "metadata": {},
   "outputs": [],
   "source": []
  },
  {
   "cell_type": "code",
   "execution_count": null,
   "metadata": {},
   "outputs": [],
   "source": []
  },
  {
   "cell_type": "code",
   "execution_count": null,
   "metadata": {},
   "outputs": [],
   "source": []
  },
  {
   "cell_type": "code",
   "execution_count": null,
   "metadata": {},
   "outputs": [],
   "source": []
  },
  {
   "cell_type": "code",
   "execution_count": null,
   "metadata": {},
   "outputs": [],
   "source": []
  },
  {
   "cell_type": "code",
   "execution_count": null,
   "metadata": {},
   "outputs": [],
   "source": []
  },
  {
   "cell_type": "code",
   "execution_count": null,
   "metadata": {},
   "outputs": [],
   "source": []
  },
  {
   "cell_type": "code",
   "execution_count": 96,
   "metadata": {},
   "outputs": [
    {
     "ename": "NameError",
     "evalue": "name 'BREAK' is not defined",
     "output_type": "error",
     "traceback": [
      "\u001b[0;31m---------------------------------------------------------------------------\u001b[0m",
      "\u001b[0;31mNameError\u001b[0m                                 Traceback (most recent call last)",
      "\u001b[0;32m<ipython-input-96-66db536c6cae>\u001b[0m in \u001b[0;36m<module>\u001b[0;34m\u001b[0m\n\u001b[0;32m----> 1\u001b[0;31m \u001b[0mBREAK\u001b[0m\u001b[0;34m\u001b[0m\u001b[0;34m\u001b[0m\u001b[0m\n\u001b[0m",
      "\u001b[0;31mNameError\u001b[0m: name 'BREAK' is not defined"
     ]
    }
   ],
   "source": [
    "BREAK"
   ]
  },
  {
   "cell_type": "code",
   "execution_count": 2,
   "metadata": {},
   "outputs": [
    {
     "data": {
      "image/png": "[encoded data removed]",
      "text/plain": [
       "<Figure size 576x576 with 1 Axes>"
      ]
     },
     "metadata": {},
     "output_type": "display_data"
    }
   ],
   "source": [
    "import networkx as nx\n",
    "import matplotlib.pyplot as plt\n",
    "\n",
    "# Create a graph with 3 nodes, A, B, C, with a V-structure A->B<-C\n",
    "G = nx.DiGraph()\n",
    "G.add_nodes_from(['A', 'B', 'C'])\n",
    "G.add_edges_from([('A', 'B'), ('C', 'B')])\n",
    "\n",
    "# Add the following probabilities A: 0.9, B: 0.7, C: 0.97\n",
    "G.nodes['A']['p'] = 0.1\n",
    "G.nodes['B']['p'] = 0.28\n",
    "G.nodes['C']['p'] = 0.2\n",
    "\n",
    "# Draw it properly with big nodes and A and C above B, showing the probabilities\n",
    "pos = {'A': (0, 1), 'B': (1, 1), 'C': (2, 1)}\n",
    "\n",
    "# Create a figure and axis\n",
    "fig, ax = plt.subplots(figsize=(8, 8))\n",
    "\n",
    "# Draw the graph\n",
    "nx.draw_networkx(G, pos, node_size=4000, node_color='lightblue', with_labels=True, ax=ax)\n",
    "\n",
    "# Add node labels with probabilities\n",
    "node_labels = {node: f\"\\n\\n p={G.nodes[node]['p']}\" for node in G.nodes}\n",
    "nx.draw_networkx_labels(G, pos, labels=node_labels, font_size=12, font_color='black', ax=ax)\n",
    "\n",
    "# Show the figure\n",
    "plt.show()\n",
    "\n"
   ]
  },
  {
   "cell_type": "code",
   "execution_count": 3,
   "metadata": {},
   "outputs": [
    {
     "data": {
      "image/png": "[encoded data removed]",
      "text/plain": [
       "<Figure size 576x576 with 1 Axes>"
      ]
     },
     "metadata": {},
     "output_type": "display_data"
    }
   ],
   "source": [
    "# Create a graph with 4 nodes, A, B, C, and S, with edges A->B<-C and S->A\n",
    "G = nx.DiGraph()\n",
    "G.add_nodes_from(['A', 'B', 'C', 'S'])\n",
    "G.add_edges_from([('A', 'B'), ('C', 'B'), ('S', 'A')])\n",
    "\n",
    "# Add the following probabilities A: 0, B: 0.7, C: 0.97\n",
    "G.nodes['A']['p'] = 0\n",
    "G.nodes['B']['p'] = 0.2\n",
    "G.nodes['C']['p'] = 0.2\n",
    "G.nodes['S']['p'] = 0\n",
    "\n",
    "# Set the label of node S to 'perfect sensor'\n",
    "G.nodes['S']['label'] = 'perfect sensor'\n",
    "\n",
    "# Draw it properly with big nodes and A and C above B, showing the probabilities\n",
    "pos = {'A': (0, 1), 'B': (1, 1), 'C': (2, 1), 'S': (0.5, 0.5)}\n",
    "\n",
    "# Create a figure and axis\n",
    "fig, ax = plt.subplots(figsize=(8, 8))\n",
    "\n",
    "# Draw the graph with smaller node size for S and yellow color for the sensor node\n",
    "nx.draw_networkx(G, pos, node_size=[4000, 4000, 4000, 1000], node_color=['lightblue', 'lightblue', 'lightblue', 'yellow'], with_labels=True, ax=ax)\n",
    "\n",
    "# Add node labels with probabilities\n",
    "node_labels = {node: f\"\\n\\n p={G.nodes[node]['p']}\" for node in G.nodes}\n",
    "node_labels['S'] = '\\n\\nperfect sensor'\n",
    "nx.draw_networkx_labels(G, pos, labels=node_labels, font_size=12, font_color='black', ax=ax)\n",
    "\n",
    "# Show the figure\n",
    "plt.show()"
   ]
  },
  {
   "cell_type": "code",
   "execution_count": 5,
   "metadata": {},
   "outputs": [
    {
     "data": {
      "image/png": "[encoded data removed]",
      "text/plain": [
       "<Figure size 576x576 with 1 Axes>"
      ]
     },
     "metadata": {},
     "output_type": "display_data"
    }
   ],
   "source": [
    "# Create a graph with 4 nodes, A, B, C, and S, with edges A->B<-C and S->A\n",
    "G = nx.DiGraph()\n",
    "G.add_nodes_from(['A', 'B', 'C', 'S'])\n",
    "G.add_edges_from([('A', 'B'), ('C', 'B'), ('S', 'A')])\n",
    "\n",
    "# Add the following probabilities A: 0, B: 0.7, C: 0.97\n",
    "G.nodes['A']['p'] = 0.15\n",
    "G.nodes['B']['p'] = 0.32\n",
    "G.nodes['C']['p'] = 0.2\n",
    "G.nodes['S']['p'] = 0\n",
    "\n",
    "# Set the label of node S to 'perfect sensor'\n",
    "G.nodes['S']['label'] = 'perfect sensor'\n",
    "\n",
    "# Draw it properly with big nodes and A and C above B, showing the probabilities\n",
    "pos = {'A': (0, 1), 'B': (1, 1), 'C': (2, 1), 'S': (0.5, 0.5)}\n",
    "\n",
    "# Create a figure and axis\n",
    "fig, ax = plt.subplots(figsize=(8, 8))\n",
    "\n",
    "# Draw the graph with smaller node size for S and yellow color for the sensor node\n",
    "nx.draw_networkx(G, pos, node_size=[4000, 4000, 4000, 1000], node_color=['lightblue', 'lightblue', 'lightblue', 'yellow'], with_labels=True, ax=ax)\n",
    "\n",
    "# Add node labels with probabilities\n",
    "node_labels = {node: f\"\\n\\n p={G.nodes[node]['p']}\" for node in G.nodes}\n",
    "node_labels['S'] = '\\nSensor with R=0.85'\n",
    "nx.draw_networkx_labels(G, pos, labels=node_labels, font_size=12, font_color='black', ax=ax)\n",
    "\n",
    "# Show the figure\n",
    "plt.show()"
   ]
  },
  {
   "cell_type": "code",
   "execution_count": null,
   "metadata": {},
   "outputs": [],
   "source": []
  }
 ],
 "metadata": {
  "kernelspec": {
   "display_name": "Python 3 (ipykernel)",
   "language": "python",
   "name": "python3"
  },
  "language_info": {
   "codemirror_mode": {
    "name": "ipython",
    "version": 3
   },
   "file_extension": ".py",
   "mimetype": "text/x-python",
   "name": "python",
   "nbconvert_exporter": "python",
   "pygments_lexer": "ipython3",
   "version": "3.7.6"
  }
 },
 "nbformat": 4,
 "nbformat_minor": 5
}
